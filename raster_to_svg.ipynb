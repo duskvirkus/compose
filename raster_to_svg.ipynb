{
 "cells": [
  {
   "cell_type": "code",
   "execution_count": 3,
   "metadata": {},
   "outputs": [
    {
     "name": "stdout",
     "output_type": "stream",
     "text": [
      "<compose.in_out.loader.Loader object at 0x7fa70488d0d0>\n"
     ]
    }
   ],
   "source": [
    "import compose\n",
    "\n",
    "print(compose.loader)"
   ]
  },
  {
   "cell_type": "code",
   "execution_count": null,
   "metadata": {},
   "outputs": [],
   "source": []
  }
 ],
 "metadata": {
  "interpreter": {
   "hash": "da24b59a85a489f56aedbc7ca7b51c03617af0a5f63f5aaf4aef9f48990e1a28"
  },
  "kernelspec": {
   "display_name": "Python 3.7.11 64-bit ('dataset-tools': conda)",
   "language": "python",
   "name": "python3"
  },
  "language_info": {
   "codemirror_mode": {
    "name": "ipython",
    "version": 3
   },
   "file_extension": ".py",
   "mimetype": "text/x-python",
   "name": "python",
   "nbconvert_exporter": "python",
   "pygments_lexer": "ipython3",
   "version": "3.7.11"
  },
  "orig_nbformat": 4
 },
 "nbformat": 4,
 "nbformat_minor": 2
}
