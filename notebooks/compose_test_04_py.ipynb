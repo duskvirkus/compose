{
  "nbformat": 4,
  "nbformat_minor": 0,
  "metadata": {
    "colab": {
      "name": "compose-test-04.py",
      "provenance": [],
      "collapsed_sections": [],
      "background_execution": "on",
      "private_outputs": true,
      "authorship_tag": "ABX9TyOZofXO+TRvDxSH2X3ZUPx4",
      "include_colab_link": true
    },
    "kernelspec": {
      "name": "python3",
      "display_name": "Python 3"
    },
    "language_info": {
      "name": "python"
    },
    "accelerator": "GPU"
  },
  "cells": [
    {
      "cell_type": "markdown",
      "metadata": {
        "id": "view-in-github",
        "colab_type": "text"
      },
      "source": [
        "<a href=\"https://colab.research.google.com/github/duskvirkus/compose/blob/main/notebooks/compose_test_04_py.ipynb\" target=\"_parent\"><img src=\"https://colab.research.google.com/assets/colab-badge.svg\" alt=\"Open In Colab\"/></a>"
      ]
    },
    {
      "cell_type": "markdown",
      "source": [
        "# Compose Test Notebook"
      ],
      "metadata": {
        "id": "Snd4KKn3dr_s"
      }
    },
    {
      "cell_type": "markdown",
      "source": [
        "## Runtime Setup\n",
        "\n",
        "**Run this section at the beginning of each runtime!**"
      ],
      "metadata": {
        "id": "4ry3YEbMelZ3"
      }
    },
    {
      "cell_type": "code",
      "execution_count": null,
      "metadata": {
        "id": "MLZd59u7cn86"
      },
      "outputs": [],
      "source": [
        "!nvidia-smi -L"
      ]
    },
    {
      "cell_type": "code",
      "source": [
        "from google.colab import drive\n",
        "drive.mount('/content/drive')"
      ],
      "metadata": {
        "id": "9ZbSRKz-eqLE"
      },
      "execution_count": null,
      "outputs": []
    },
    {
      "cell_type": "code",
      "source": [
        "import os\n",
        "drive_path = '/content/drive/MyDrive/'\n",
        "repo_container_dir = 'compose-test-04'\n",
        "repo_name = 'compose'\n",
        "git_repo = 'https://github.com/duskvirkus/compose.git'\n",
        "branch_name = 'main'\n",
        "git_commit_id = '852c81c4ab90c260fbcc5a9bdc22b74e33bbcd4f'\n",
        "\n",
        "working_dir = os.path.join(drive_path, 'colab', repo_container_dir, repo_name)\n",
        "\n",
        "if os.path.isdir(working_dir):\n",
        "  %cd {working_dir}\n",
        "else:\n",
        "  container_path = os.path.join(drive_path, 'colab', repo_container_dir)\n",
        "  os.makedirs(container_path)\n",
        "  %cd {container_path}\n",
        "  !git clone --branch {branch_name} {git_repo}\n",
        "  %cd {repo_name}\n",
        "  !git checkout {git_commit_id}"
      ],
      "metadata": {
        "id": "whqPDCJ8frpE"
      },
      "execution_count": null,
      "outputs": []
    },
    {
      "cell_type": "markdown",
      "source": [
        "## Enviroment Setup\n",
        "\n",
        "This section will install necessary dependancies and then requrie a runtime restart. Don't forget to go back and do runtime setup again."
      ],
      "metadata": {
        "id": "wtdyKcfUfsOS"
      }
    },
    {
      "cell_type": "code",
      "source": [
        "!git submodule update --init --recursive\n",
        "!python scripts/install/pytorch.py\n",
        "!pip install -r requirements.txt\n",
        "%cd diffvg\n",
        "!python setup.py install\n",
        "%cd ..\n",
        "!python setup.py install"
      ],
      "metadata": {
        "id": "YqvCaPwfY8HU"
      },
      "execution_count": null,
      "outputs": []
    },
    {
      "cell_type": "markdown",
      "source": [
        "**Runtime -> Restart Runtime**\n",
        "\n",
        "You must restart the notebook for the installed packages to take effect"
      ],
      "metadata": {
        "id": "0ir_hKKzdJvY"
      }
    },
    {
      "cell_type": "markdown",
      "source": [
        "## Animation"
      ],
      "metadata": {
        "id": "XaM0hwT1XVuH"
      }
    },
    {
      "cell_type": "code",
      "source": [
        "!gdown --id 1SMo8AOiLbiYDUZEWLuhA1gyGz6kK7zwO"
      ],
      "metadata": {
        "id": "11T9TeKtnceF"
      },
      "execution_count": null,
      "outputs": []
    },
    {
      "cell_type": "code",
      "source": [
        "!unzip test-frames-02.zip"
      ],
      "metadata": {
        "id": "AeD75KVjng0A"
      },
      "execution_count": null,
      "outputs": []
    },
    {
      "cell_type": "code",
      "source": [
        "# this cell resizes images to avoid cuda errors\n",
        "import cv2\n",
        "for root, _, files in os.walk('/content/drive/My Drive/colab/compose-test-04/compose/frames'):\n",
        "  for f in files:\n",
        "    path = os.path.join(root, f)\n",
        "    img = cv2.imread(path)\n",
        "    output = cv2.resize(\n",
        "        img, \n",
        "        (\n",
        "            int(img.shape[1] / 2),\n",
        "            int(img.shape[0] / 2)\n",
        "        )\n",
        "    )\n",
        "    cv2.imwrite(path, output, [cv2.IMWRITE_PNG_COMPRESSION, 0])\n",
        "    print(path)\n"
      ],
      "metadata": {
        "id": "6_8Pib-kBUbs"
      },
      "execution_count": null,
      "outputs": []
    },
    {
      "cell_type": "code",
      "source": [
        "from compose import *\n",
        "import os\n",
        "\n",
        "filenames = [\n",
        "'frame-003247.png',\n",
        "'frame-003237.png',\n",
        "'frame-003240.png',\n",
        "'frame-003239.png',\n",
        "'frame-003236.png',\n",
        "'frame-003281.png',\n",
        "'frame-003265.png',\n",
        "'frame-003256.png',\n",
        "'frame-003261.png',\n",
        "'frame-003291.png',\n",
        "'frame-003280.png',\n",
        "'frame-003250.png',\n",
        "'frame-003276.png',\n",
        "'frame-003292.png',\n",
        "'frame-003284.png',\n",
        "'frame-003273.png',\n",
        "'frame-003269.png',\n",
        "'frame-003249.png',\n",
        "'frame-003254.png',\n",
        "'frame-003262.png',\n",
        "'frame-003272.png',\n",
        "'frame-003287.png',\n",
        "'frame-003294.png',\n",
        "'frame-003259.png',\n",
        "'frame-003288.png',\n",
        "'frame-003268.png',\n",
        "'frame-003266.png',\n",
        "'frame-003257.png',\n",
        "'frame-003251.png',\n",
        "'frame-003285.png',\n",
        "'frame-003258.png',\n",
        "'frame-003279.png',\n",
        "'frame-003283.png',\n",
        "'frame-003253.png',\n",
        "'frame-003255.png',\n",
        "'frame-003260.png',\n",
        "'frame-003271.png',\n",
        "'frame-003286.png',\n",
        "'frame-003263.png',\n",
        "'frame-003267.png',\n",
        "'frame-003270.png',\n",
        "'frame-003289.png',\n",
        "'frame-003252.png',\n",
        "'frame-003275.png',\n",
        "'frame-003278.png',\n",
        "'frame-003248.png',\n",
        "'frame-003264.png',\n",
        "]\n",
        "\n",
        "targets = [load(os.path.join(working_dir, 'frames', filename)) for filename in filenames]\n",
        "\n",
        "\n",
        "comp = create_composition(targets[0].width, targets[0].height)\n",
        "comp.background(Color([195, 191, 206]))\n",
        "for _ in range(3000):\n",
        "  comp.add_element(random_curve([1, 5], [0, comp.width], [0, comp.height], no_alpha=True))\n",
        "\n",
        "lpips = LPIPS()\n",
        "\n",
        "for _ in range(48):\n",
        "  comp.refine(targets[0], lpips)\n",
        "\n",
        "for i in range(1, len(targets)):\n",
        "  for _ in range(12):\n",
        "    comp.refine(targets[i], lpips)"
      ],
      "metadata": {
        "id": "PmaDvkuzXVLQ"
      },
      "execution_count": null,
      "outputs": []
    },
    {
      "cell_type": "code",
      "source": [
        "%cd exports\n",
        "!ls"
      ],
      "metadata": {
        "id": "O4j73wS2b6tF"
      },
      "execution_count": null,
      "outputs": []
    },
    {
      "cell_type": "code",
      "source": [
        "%cd .."
      ],
      "metadata": {
        "id": "MY3zsnOTOJzj"
      },
      "execution_count": null,
      "outputs": []
    },
    {
      "cell_type": "code",
      "source": [
        "%cd 000000000\n",
        "# change if you run script multiple times above cell will show you possible directories"
      ],
      "metadata": {
        "id": "A0aWiHnAb_Dy"
      },
      "execution_count": null,
      "outputs": []
    },
    {
      "cell_type": "code",
      "source": [
        "!ffmpeg -framerate 24 -i %6d-export.png -vb 20M -vcodec libx264 -crf 25 -pix_fmt yuv420p video-144.mp4"
      ],
      "metadata": {
        "id": "pH5MZH2icI7u"
      },
      "execution_count": null,
      "outputs": []
    },
    {
      "cell_type": "markdown",
      "source": [
        "There's some bugs if you try to run the script again so just reset the runtime."
      ],
      "metadata": {
        "id": "cQS3Zme7k0D2"
      }
    }
  ]
}