{
  "nbformat": 4,
  "nbformat_minor": 0,
  "metadata": {
    "colab": {
      "name": "compose-test-01.py",
      "provenance": [],
      "collapsed_sections": [],
      "background_execution": "on",
      "private_outputs": true,
      "authorship_tag": "ABX9TyNRRHGa0fgGzTsgYzX/7Py2",
      "include_colab_link": true
    },
    "kernelspec": {
      "name": "python3",
      "display_name": "Python 3"
    },
    "language_info": {
      "name": "python"
    },
    "accelerator": "GPU"
  },
  "cells": [
    {
      "cell_type": "markdown",
      "metadata": {
        "id": "view-in-github",
        "colab_type": "text"
      },
      "source": [
        "<a href=\"https://colab.research.google.com/github/duskvirkus/compose/blob/main/notebooks/compose_test_01_py.ipynb\" target=\"_parent\"><img src=\"https://colab.research.google.com/assets/colab-badge.svg\" alt=\"Open In Colab\"/></a>"
      ]
    },
    {
      "cell_type": "markdown",
      "source": [
        "# Compose Test Notebook"
      ],
      "metadata": {
        "id": "Snd4KKn3dr_s"
      }
    },
    {
      "cell_type": "markdown",
      "source": [
        "## Runtime Setup\n",
        "\n",
        "**Run this section at the beginning of each runtime!**"
      ],
      "metadata": {
        "id": "4ry3YEbMelZ3"
      }
    },
    {
      "cell_type": "code",
      "execution_count": null,
      "metadata": {
        "id": "MLZd59u7cn86"
      },
      "outputs": [],
      "source": [
        "!nvidia-smi -L"
      ]
    },
    {
      "cell_type": "code",
      "source": [
        "from google.colab import drive\n",
        "drive.mount('/content/drive')"
      ],
      "metadata": {
        "id": "9ZbSRKz-eqLE"
      },
      "execution_count": null,
      "outputs": []
    },
    {
      "cell_type": "code",
      "source": [
        "import os\n",
        "drive_path = '/content/drive/MyDrive/'\n",
        "repo_container_dir = 'compose-test-01'\n",
        "repo_name = 'compose'\n",
        "git_repo = 'https://github.com/duskvirkus/compose.git'\n",
        "branch_name = 'main'\n",
        "git_commit_id = '06abe2007c47f99f3d87776a654139a1f8a32605'\n",
        "\n",
        "working_dir = os.path.join(drive_path, 'colab', repo_container_dir, repo_name)\n",
        "\n",
        "if os.path.isdir(working_dir):\n",
        "  %cd {working_dir}\n",
        "else:\n",
        "  container_path = os.path.join(drive_path, 'colab', repo_container_dir)\n",
        "  os.makedirs(container_path)\n",
        "  %cd {container_path}\n",
        "  !git clone --branch {branch_name} {git_repo}\n",
        "  %cd {repo_name}\n",
        "  !git checkout {git_commit_id}"
      ],
      "metadata": {
        "id": "whqPDCJ8frpE"
      },
      "execution_count": null,
      "outputs": []
    },
    {
      "cell_type": "markdown",
      "source": [
        "## Enviroment Setup\n",
        "\n",
        "This section will install necessary dependancies and then requrie a runtime restart. Don't forget to go back and do runtime setup again."
      ],
      "metadata": {
        "id": "wtdyKcfUfsOS"
      }
    },
    {
      "cell_type": "code",
      "source": [
        "!git submodule update --init --recursive\n",
        "!python scripts/install/pytorch.py\n",
        "!pip install -r requirements.txt\n",
        "%cd diffvg\n",
        "!python setup.py install\n",
        "%cd ..\n",
        "!python setup.py install"
      ],
      "metadata": {
        "id": "YqvCaPwfY8HU"
      },
      "execution_count": null,
      "outputs": []
    },
    {
      "cell_type": "markdown",
      "source": [
        "**Runtime -> Restart Runtime**\n",
        "\n",
        "You must restart the notebook for the installed packages to take effect"
      ],
      "metadata": {
        "id": "0ir_hKKzdJvY"
      }
    },
    {
      "cell_type": "markdown",
      "source": [
        "## Animation"
      ],
      "metadata": {
        "id": "XaM0hwT1XVuH"
      }
    },
    {
      "cell_type": "code",
      "source": [
        "from compose import *\n",
        "\n",
        "target = load(working_dir + '/assets/images/sunflowers.jpg')\n",
        "\n",
        "comp = create_composition(target.width, target.height)\n",
        "for _ in range(1024):\n",
        "    comp.add_element(random_curve([3, 5], [0, comp.width], [0, comp.height]))\n",
        "\n",
        "lpips = LPIPS()\n",
        "\n",
        "for _ in range(512):\n",
        "    comp.refine(target, lpips)"
      ],
      "metadata": {
        "id": "PmaDvkuzXVLQ"
      },
      "execution_count": null,
      "outputs": []
    },
    {
      "cell_type": "code",
      "source": [
        "%cd exports\n",
        "!ls"
      ],
      "metadata": {
        "id": "O4j73wS2b6tF"
      },
      "execution_count": null,
      "outputs": []
    },
    {
      "cell_type": "code",
      "source": [
        "%cd 000000000\n",
        "# change if you run script multiple times above cell will show you possible directories"
      ],
      "metadata": {
        "id": "A0aWiHnAb_Dy"
      },
      "execution_count": null,
      "outputs": []
    },
    {
      "cell_type": "code",
      "source": [
        "!ffmpeg -framerate 24 -i %6d-export.png -vb 20M -vcodec libx264 -crf 25 -pix_fmt yuv420p video.mp4"
      ],
      "metadata": {
        "id": "pH5MZH2icI7u"
      },
      "execution_count": null,
      "outputs": []
    },
    {
      "cell_type": "markdown",
      "source": [
        "There's some bugs if you try to run the script again so just reset the runtime."
      ],
      "metadata": {
        "id": "cQS3Zme7k0D2"
      }
    }
  ]
}